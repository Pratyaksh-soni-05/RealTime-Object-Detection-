{
 "cells": [
  {
   "cell_type": "code",
   "execution_count": 6,
   "id": "7a131047-9336-448f-82c2-9c9cb6d09a2b",
   "metadata": {},
   "outputs": [],
   "source": [
    "import cv2 #opencv\n",
    "import os\n",
    "import time\n",
    "import uuid #user id"
   ]
  },
  {
   "cell_type": "code",
   "execution_count": 8,
   "id": "f6e416a5-e23d-4389-9d2f-1dabef47d2ab",
   "metadata": {},
   "outputs": [],
   "source": [
    "IMAGES_PATH = 'Tensorflow/workspace/images/collectedimages'"
   ]
  },
  {
   "cell_type": "code",
   "execution_count": 10,
   "id": "e53de458-adfd-453b-9e0e-da76a3c4f614",
   "metadata": {},
   "outputs": [],
   "source": [
    "labels = ['hello', 'thanks', 'yes', 'no', 'iloveyou'] #array of all the labels \n",
    "number_imgs = 15 #total images captured"
   ]
  },
  {
   "cell_type": "code",
   "execution_count": 12,
   "id": "dc93a1dc-f7b1-4a72-9b55-e625c49bbe57",
   "metadata": {},
   "outputs": [
    {
     "name": "stdout",
     "output_type": "stream",
     "text": [
      "Collecting images for \"hello\"\n",
      "Collecting images for \"thanks\"\n",
      "Collecting images for \"yes\"\n",
      "Collecting images for \"no\"\n",
      "Collecting images for \"iloveyou\"\n"
     ]
    }
   ],
   "source": [
    "for label in labels:  # Loop through each label\n",
    "    # Create a directory for each label\n",
    "    label_path = os.path.join(IMAGES_PATH, label)\n",
    "    if not os.path.exists(label_path):\n",
    "        os.makedirs(label_path)  # Create the directory for the current label\n",
    "\n",
    "    # Set up video capture\n",
    "    cap = cv2.VideoCapture(0)  # Open camera index 0\n",
    "    print('Collecting images for \"{}\"'.format(label))\n",
    "    time.sleep(5)  # Wait for 5 seconds to set up the camera\n",
    "\n",
    "    for imgnum in range(number_imgs):\n",
    "        ret, frame = cap.read()\n",
    "        if not ret:\n",
    "            print(\"Failed to grab frame, retrying...\")\n",
    "            continue\n",
    "\n",
    "        # Create a unique name for the image\n",
    "        imgname = os.path.join(label_path, '{}.jpg'.format(str(uuid.uuid4())))\n",
    "\n",
    "        # Save the image\n",
    "        cv2.imwrite(imgname, frame)\n",
    "        cv2.imshow('frame', frame)  # Display the image\n",
    "        time.sleep(2)  # Wait for 2 seconds between captures\n",
    "\n",
    "        # Check if user pressed 'q' to quit early\n",
    "        if cv2.waitKey(1) & 0xFF == ord('q'):\n",
    "            print(\"Terminating image capture early.\")\n",
    "            break\n",
    "\n",
    "    # Release resources after finishing the current label\n",
    "    cap.release()\n",
    "    cv2.destroyAllWindows()\n"
   ]
  },
  {
   "cell_type": "code",
   "execution_count": null,
   "id": "edd75f9e-488c-4a22-809f-453f1674165a",
   "metadata": {},
   "outputs": [],
   "source": []
  }
 ],
 "metadata": {
  "kernelspec": {
   "display_name": "Python [conda env:base] *",
   "language": "python",
   "name": "conda-base-py"
  },
  "language_info": {
   "codemirror_mode": {
    "name": "ipython",
    "version": 3
   },
   "file_extension": ".py",
   "mimetype": "text/x-python",
   "name": "python",
   "nbconvert_exporter": "python",
   "pygments_lexer": "ipython3",
   "version": "3.12.7"
  }
 },
 "nbformat": 4,
 "nbformat_minor": 5
}
